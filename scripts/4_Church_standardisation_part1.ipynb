{
 "cells": [
  {
   "cell_type": "code",
   "execution_count": null,
   "metadata": {},
   "outputs": [],
   "source": [
    "import pandas as pd\n",
    "import geopandas as gpd\n",
    "from pathlib import Path\n",
    "sommarioni_p = Path('../../1808_Sommarioni/')\n",
    "sommarioni_geo_fp = list(sommarioni_p.rglob('sommarioni_geometries_202*.geojson'))[0]\n",
    "sommarioni_txt_fp = list(Path('.').rglob('3_Sommarioni_with_new_transcriptions*.json'))[0]\n",
    "gdf = gpd.read_file(sommarioni_geo_fp)\n",
    "df = pd.read_json(sommarioni_txt_fp, lines = True)\n"
   ]
  },
  {
   "cell_type": "markdown",
   "metadata": {},
   "source": [
    "# building a master dictionary of church names to Wikidata entry."
   ]
  },
  {
   "cell_type": "code",
   "execution_count": null,
   "metadata": {},
   "outputs": [],
   "source": [
    "import json\n",
    "parish_df = gpd.read_file('../../1740_redrawn_parishes_cleaned_wikidata_standardised.geojson')\n",
    "parish_df = parish_df[parish_df['church'].notnull()]\n",
    "parish_df['wd'] = parish_df['church'].str.replace('http://www.wikidata.org/entity/', '')\n",
    "parish_df\n",
    "\n",
    "def set_dict_val_if_val(d: dict, key, val):\n",
    "    if key not in d and key is not None:\n",
    "        d[key] = val\n",
    "\n",
    "name_wd_d = {}\n",
    "for idx, row in parish_df.iterrows():\n",
    "    wd = row['wd']\n",
    "    set_dict_val_if_val(name_wd_d, row['NAME'], wd)\n",
    "    set_dict_val_if_val(name_wd_d, row['alt_name'], wd)\n",
    "    set_dict_val_if_val(name_wd_d, row['wd_venetian_name'], wd)\n",
    "    set_dict_val_if_val(name_wd_d, row['wd_italian_name'], wd)\n",
    "\n",
    "sparql_req_res = pd.read_csv('../Garzoni/all_wikidata_churches.csv').drop(columns = ['Unnamed: 0'])\n",
    "sparql_req_res['wd'] = sparql_req_res['church'].str.replace('http://www.wikidata.org/entity/', '')\n",
    "sparql_req_res = sparql_req_res[sparql_req_res['wd'].notnull()]\n",
    "for idx, row in sparql_req_res.iterrows():\n",
    "    set_dict_val_if_val(name_wd_d, row['italianLabel'], row['wd'])\n",
    "    set_dict_val_if_val(name_wd_d, row['venetianLabel'], row['wd'])\n",
    "\n",
    "with open('church_matching/name_wd_dict.json', 'w') as f:\n",
    "    json.dump(name_wd_d, f, indent = 2)\n"
   ]
  },
  {
   "cell_type": "markdown",
   "metadata": {},
   "source": [
    "# Adding the matches of church with wikidata."
   ]
  },
  {
   "cell_type": "code",
   "execution_count": null,
   "metadata": {},
   "outputs": [],
   "source": [
    "churches_matched = pd.read_csv('church_matching/special_churches_sommarioni_to_wd_id.csv')\n",
    "unmatched = churches_matched[churches_matched['wd_id'].isnull()]\n",
    "matched = churches_matched[churches_matched['wd_id'].notnull()]\n",
    "matched\n",
    "for _, row in matched.iterrows():\n",
    "    #adding to owner standardized the wikidata id we matched.\n",
    "    own_standardized = df.iloc[row['idx']]['owner_standardised']\n",
    "    df.at[row['idx'], 'owner_standardised'] = f\"{own_standardized}, ({row['wd_id']}\"\n",
    "\n",
    "df = df.replace('Sesta ', 'Scuola ')"
   ]
  },
  {
   "cell_type": "code",
   "execution_count": null,
   "metadata": {},
   "outputs": [],
   "source": [
    "df.to_json('sommarioni_text_data_20250318_internal.json', orient='records', indent=2)"
   ]
  }
 ],
 "metadata": {
  "kernelspec": {
   "display_name": "Python 3",
   "language": "python",
   "name": "python3"
  },
  "language_info": {
   "codemirror_mode": {
    "name": "ipython",
    "version": 3
   },
   "file_extension": ".py",
   "mimetype": "text/x-python",
   "name": "python",
   "nbconvert_exporter": "python",
   "pygments_lexer": "ipython3",
   "version": "3.9.6"
  }
 },
 "nbformat": 4,
 "nbformat_minor": 2
}
