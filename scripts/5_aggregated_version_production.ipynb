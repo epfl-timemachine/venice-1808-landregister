{
 "cells": [
  {
   "cell_type": "code",
   "execution_count": null,
   "metadata": {},
   "outputs": [],
   "source": [
    "import pandas as pd\n",
    "import geopandas as gpd\n",
    "import ast\n",
    "### Generating a single geojson file with all the data for paul\n",
    "sommarioni_people = pd.read_json('../../named_entity_standardisation/1808_Sommarioni_standardised/people_sommarioni_dataset.json').drop(columns=['edited', 'merged_ids'])\n",
    "sommarioni_people['uid'] = sommarioni_people['uid'].astype(int)\n",
    "sommarioni_people['nucleus_uid'] = sommarioni_people['nucleus_uid'].astype(int)\n",
    "sommarioni_people['parcel_array'] = sommarioni_people.parcel_ids.apply(lambda v: ast.literal_eval('[' + v+']'))\n",
    "people_duplicated = []\n",
    "for _, r in sommarioni_people.iterrows():\n",
    "    for parcel_id in r.parcel_array:\n",
    "        new_r = r.copy()\n",
    "        new_r['parcel_id'] = parcel_id\n",
    "        people_duplicated.append(new_r)\n"
   ]
  },
  {
   "cell_type": "code",
   "execution_count": null,
   "metadata": {},
   "outputs": [],
   "source": [
    "sommarioni_std_full = pd.read_json('sommarioni_text_data_20250318_internal.json')\n",
    "sommarioni_std_full"
   ]
  },
  {
   "cell_type": "code",
   "execution_count": null,
   "metadata": {},
   "outputs": [],
   "source": [
    "people_flattened = pd.DataFrame(people_duplicated).drop(columns=['parcel_array', 'parcel_ids'])\n",
    "rename_owner_dict = {v:'own_'+v for v in people_flattened.columns.to_list()}\n",
    "people_flattened = people_flattened.rename(columns=rename_owner_dict)\n",
    "sommarioni_text_people = sommarioni_std_full.merge(people_flattened, left_on='unique_id', right_on='own_parcel_id', how='left').drop(columns=['own_parcel_id'])"
   ]
  },
  {
   "cell_type": "code",
   "execution_count": null,
   "metadata": {},
   "outputs": [],
   "source": [
    "geometries_df = gpd.read_file('sommarioni_geometries_internal_20250318.geojson')"
   ]
  },
  {
   "cell_type": "code",
   "execution_count": null,
   "metadata": {},
   "outputs": [],
   "source": [
    "sommarioni_text_people.geometry_id = sommarioni_text_people.geometry_id.astype(str)"
   ]
  },
  {
   "cell_type": "code",
   "execution_count": null,
   "metadata": {},
   "outputs": [],
   "source": [
    "geometries_group = geometries_df.groupby('geometry_id')\n",
    "geometries_group"
   ]
  },
  {
   "cell_type": "code",
   "execution_count": null,
   "metadata": {},
   "outputs": [],
   "source": [
    "sommarioni_text_people_group = sommarioni_text_people.groupby('geometry_id')"
   ]
  },
  {
   "cell_type": "code",
   "execution_count": null,
   "metadata": {},
   "outputs": [],
   "source": [
    "# building JSON with the corresponding group\n",
    "text_drop_cols = ['geometry_id', 'unique_id']\n",
    "sommarioni_text_people_group_dict = sommarioni_text_people_group.apply(lambda x: x.drop().to_json(orient='records')).to_dict()\n",
    "sommarioni_text_people_group_dict"
   ]
  },
  {
   "cell_type": "code",
   "execution_count": null,
   "metadata": {},
   "outputs": [],
   "source": [
    "final_file_name = f'../../1808_Sommarioni/aggregated/sommarioni_geometries_function_and_people_standardized_20250318.geojson'\n",
    "\n",
    "to_write = geometries_df.merge(sommarioni_text_people, on='geometry_id', how='left').rename(columns={'parcel_number_x': 'parcel_number'}).drop(columns='parcel_number_y').to_json(indent=2)\n",
    "with open(final_file_name, 'w', encoding='utf-8') as file:\n",
    "     file.write(to_write)"
   ]
  }
 ],
 "metadata": {
  "kernelspec": {
   "display_name": "Python 3",
   "language": "python",
   "name": "python3"
  },
  "language_info": {
   "codemirror_mode": {
    "name": "ipython",
    "version": 3
   },
   "file_extension": ".py",
   "mimetype": "text/x-python",
   "name": "python",
   "nbconvert_exporter": "python",
   "pygments_lexer": "ipython3",
   "version": "3.9.6"
  }
 },
 "nbformat": 4,
 "nbformat_minor": 2
}
